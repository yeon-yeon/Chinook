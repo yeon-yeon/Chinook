{
 "cells": [
  {
   "cell_type": "markdown",
   "metadata": {},
   "source": [
    "# 1. Joining three Tables"
   ]
  },
  {
   "cell_type": "code",
   "execution_count": 2,
   "metadata": {},
   "outputs": [
    {
     "name": "stdout",
     "output_type": "stream",
     "text": [
      "[(3448, 'Lamentations of Jeremiah, First Set \\\\ Incipit Lamentatio', 'Protected AAC audio file', 0.99, 1), (2560, 'Violent Pornography', 'MPEG audio file', 0.99, 1), (3336, 'War Pigs', 'Purchased AAC audio file', 0.99, 1), (829, \"Let's Get Rocked\", 'MPEG audio file', 0.99, 1), (1872, 'Attitude', 'MPEG audio file', 0.99, 1), (748, 'Dealer', 'MPEG audio file', 0.99, 1), (1778, \"You're What's Happening (In The World Today)\", 'MPEG audio file', 0.99, 1), (2514, 'Spoonman', 'MPEG audio file', 0.99, 1)]\n"
     ]
    }
   ],
   "source": [
    "import sqlite3\n",
    "conn = sqlite3.connect(\"chinook.db\")\n",
    "\n",
    "join_q = '''\n",
    "        SELECT \n",
    "            il.track_id,\n",
    "            t.name track_name,\n",
    "            mt.name track_type,\n",
    "            il.unit_price,\n",
    "            il.quantity\n",
    "        FROM invoice_line il\n",
    "        INNER JOIN track t ON t.track_id = il.track_id\n",
    "        INNER JOIN media_type mt ON mt.media_type_id = t.media_type_id\n",
    "        WHERE il.invoice_id = 4;\n",
    "'''\n",
    "joined_tables = conn.execute(join_q).fetchall()\n",
    "print(joined_tables)"
   ]
  },
  {
   "cell_type": "markdown",
   "metadata": {},
   "source": [
    "# 2. Joining more than 3"
   ]
  },
  {
   "cell_type": "code",
   "execution_count": 4,
   "metadata": {},
   "outputs": [
    {
     "name": "stdout",
     "output_type": "stream",
     "text": [
      "[(3448, 'Lamentations of Jeremiah, First Set \\\\ Incipit Lamentatio', \"The King's Singers\", 'Protected AAC audio file', 0.99, 1), (2560, 'Violent Pornography', 'System Of A Down', 'MPEG audio file', 0.99, 1), (3336, 'War Pigs', 'Cake', 'Purchased AAC audio file', 0.99, 1), (829, \"Let's Get Rocked\", 'Def Leppard', 'MPEG audio file', 0.99, 1), (1872, 'Attitude', 'Metallica', 'MPEG audio file', 0.99, 1), (748, 'Dealer', 'Deep Purple', 'MPEG audio file', 0.99, 1), (1778, \"You're What's Happening (In The World Today)\", 'Marvin Gaye', 'MPEG audio file', 0.99, 1), (2514, 'Spoonman', 'Soundgarden', 'MPEG audio file', 0.99, 1)]\n"
     ]
    }
   ],
   "source": [
    "join_4 = ''' \n",
    "        SELECT\n",
    "            il.track_id,\n",
    "            t.name track_name,\n",
    "            ar.name artist_name,\n",
    "            mt.name track_type,\n",
    "            il.unit_price,\n",
    "            il.quantity\n",
    "        FROM invoice_line il\n",
    "        INNER JOIN track t ON t.track_id = il.track_id\n",
    "        INNER JOIN media_type mt ON mt.media_type_id = t.media_type_id\n",
    "        INNER JOIN album al ON al.album_id = t.album_id\n",
    "        INNER JOIN artist ar on ar.artist_id = al.artist_id\n",
    "        WHERE il.invoice_id = 4;\n",
    "'''\n",
    "joined_4 = conn.execute(join_4).fetchall()\n",
    "print(joined_4)"
   ]
  },
  {
   "cell_type": "markdown",
   "metadata": {},
   "source": [
    "# 3. joining with subqueries"
   ]
  },
  {
   "cell_type": "code",
   "execution_count": 5,
   "metadata": {},
   "outputs": [
    {
     "name": "stdout",
     "output_type": "stream",
     "text": [
      "[(3448, 'Lamentations of Jeremiah, First Set \\\\ Incipit Lamentatio', \"The King's Singers\", 'Protected AAC audio file', 0.99, 1), (2560, 'Violent Pornography', 'System Of A Down', 'MPEG audio file', 0.99, 1), (3336, 'War Pigs', 'Cake', 'Purchased AAC audio file', 0.99, 1), (829, \"Let's Get Rocked\", 'Def Leppard', 'MPEG audio file', 0.99, 1), (1872, 'Attitude', 'Metallica', 'MPEG audio file', 0.99, 1), (748, 'Dealer', 'Deep Purple', 'MPEG audio file', 0.99, 1), (1778, \"You're What's Happening (In The World Today)\", 'Marvin Gaye', 'MPEG audio file', 0.99, 1), (2514, 'Spoonman', 'Soundgarden', 'MPEG audio file', 0.99, 1)]\n"
     ]
    }
   ],
   "source": [
    "join_sub = '''\n",
    "        SELECT\n",
    "            ta.album_title album,\n",
    "            ta.artist_name artist,\n",
    "            COUNT(*) tracks_purchased\n",
    "        FROM invoice_line il\n",
    "        INNER JOIN (\n",
    "                    SELECT\n",
    "                        t.track_id,\n",
    "                        al.title album_title,\n",
    "                        ar.name artist_name\n",
    "                    FROM track t\n",
    "                    INNER JOIN album al ON al.album_id = t.album_id\n",
    "                    INNER JOIN artist ar ON ar.artist_id = al.artist_id\n",
    "                   ) ta\n",
    "                   ON ta.track_id = il.track_id\n",
    "        GROUP BY 1, 2\n",
    "        ORDER BY 3 DESC LIMIT 5;\n",
    "'''\n",
    "joined_sub = conn.execute(join_4).fetchall()\n",
    "print(joined_sub)\n"
   ]
  },
  {
   "cell_type": "markdown",
   "metadata": {},
   "source": [
    "# 4. Recursive joins"
   ]
  },
  {
   "cell_type": "code",
   "execution_count": 6,
   "metadata": {},
   "outputs": [
    {
     "name": "stdout",
     "output_type": "stream",
     "text": [
      "[('Andrew Adams', 'General Manager', None, None), ('Jane Peacock', 'Sales Support Agent', 'Nancy Edwards', 'Sales Manager'), ('Laura Callahan', 'IT Staff', 'Michael Mitchell', 'IT Manager'), ('Margaret Park', 'Sales Support Agent', 'Nancy Edwards', 'Sales Manager'), ('Michael Mitchell', 'IT Manager', 'Andrew Adams', 'General Manager'), ('Nancy Edwards', 'Sales Manager', 'Andrew Adams', 'General Manager'), ('Robert King', 'IT Staff', 'Michael Mitchell', 'IT Manager'), ('Steve Johnson', 'Sales Support Agent', 'Nancy Edwards', 'Sales Manager')]\n"
     ]
    }
   ],
   "source": [
    "rec_q = '''\n",
    "        SELECT\n",
    "            e1.first_name || \" \" || e1.last_name employee_name,\n",
    "            e1.title employee_title,\n",
    "            e2.first_name || \" \" || e2.last_name supervisor_name,\n",
    "            e2.title supervisor_title\n",
    "        FROM employee e1\n",
    "        LEFT JOIN employee e2 ON e1.reports_to = e2.employee_id\n",
    "        ORDER BY 1;\n",
    "'''\n",
    "rec_join = conn.execute(rec_q).fetchall()\n",
    "print(rec_join)"
   ]
  },
  {
   "cell_type": "markdown",
   "metadata": {},
   "source": [
    "# 5. Case"
   ]
  },
  {
   "cell_type": "code",
   "execution_count": 7,
   "metadata": {},
   "outputs": [
    {
     "name": "stdout",
     "output_type": "stream",
     "text": [
      "[('Aaron Mitchell', 8, 70.28999999999999, 'regular'), ('Alexandre Rocha', 10, 69.3, 'regular'), ('Astrid Gruber', 9, 69.3, 'regular'), ('Bjørn Hansen', 9, 72.27000000000001, 'regular'), ('Camille Bernard', 9, 79.2, 'regular'), ('Daan Peeters', 7, 60.38999999999999, 'regular'), ('Dan Miller', 12, 95.03999999999999, 'regular'), ('Diego Gutiérrez', 5, 39.6, 'small spender'), ('Dominique Lefebvre', 9, 72.27, 'regular'), ('Eduardo Martins', 12, 60.39, 'regular'), ('Edward Francis', 13, 91.08, 'regular'), ('Ellie Sullivan', 12, 75.24000000000001, 'regular'), ('Emma Jones', 8, 68.31, 'regular'), ('Enrique Muñoz', 11, 98.01, 'regular'), ('Fernanda Ramos', 15, 106.91999999999999, 'big spender'), ('Frank Harris', 8, 74.25, 'regular'), ('Frank Ralston', 8, 71.28, 'regular'), ('František Wichterlová', 18, 144.54000000000002, 'big spender'), ('François Tremblay', 9, 99.99, 'regular'), ('Fynn Zimmermann', 10, 94.05000000000001, 'regular'), ('Hannah Schneider', 11, 85.14, 'regular'), ('Heather Leacock', 12, 92.07000000000001, 'regular'), ('Helena Holý', 12, 128.7, 'big spender'), (\"Hugh O'Reilly\", 13, 114.83999999999997, 'big spender'), ('Isabelle Mercier', 12, 73.25999999999999, 'regular'), ('Jack Smith', 12, 98.01, 'regular'), ('Jennifer Peterson', 9, 66.33, 'regular'), ('Joakim Johansson', 10, 75.24, 'regular'), ('Johannes Van der Berg', 10, 65.34, 'regular'), ('John Gordon', 10, 66.33, 'regular'), ('João Fernandes', 13, 102.96000000000001, 'big spender'), ('Julia Barnett', 10, 72.27, 'regular'), ('Kara Nielsen', 10, 37.61999999999999, 'small spender'), ('Kathy Chase', 11, 91.08000000000001, 'regular'), ('Ladislav Kovács', 10, 78.21, 'regular'), ('Leonie Köhler', 11, 82.17, 'regular'), ('Lucas Mancini', 9, 50.49, 'regular'), ('Luis Rojas', 13, 97.02000000000001, 'regular'), ('Luís Gonçalves', 13, 108.89999999999998, 'big spender'), ('Madalena Sampaio', 16, 82.17, 'regular'), ('Manoj Pareek', 13, 111.86999999999999, 'big spender'), ('Marc Dubois', 9, 64.35, 'regular'), ('Mark Philips', 10, 29.699999999999996, 'small spender'), ('Mark Taylor', 10, 81.18, 'regular'), ('Martha Silk', 11, 62.370000000000005, 'regular'), ('Michelle Brooks', 8, 79.2, 'regular'), ('Niklas Schröder', 9, 73.25999999999999, 'regular'), ('Patrick Gray', 9, 84.14999999999999, 'regular'), ('Phil Hughes', 11, 98.01, 'regular'), ('Puja Srivastava', 8, 71.28, 'regular'), ('Richard Cunningham', 12, 86.13000000000002, 'regular'), ('Robert Brown', 4, 40.59, 'regular'), ('Roberto Almeida', 11, 82.17, 'regular'), ('Stanisław Wójcik', 10, 76.22999999999999, 'regular'), ('Steve Murray', 9, 79.2, 'regular'), ('Terhi Hämäläinen', 11, 79.2, 'regular'), ('Tim Goyer', 9, 54.449999999999996, 'regular'), ('Victor Stevens', 10, 76.23, 'regular'), ('Wyatt Girard', 11, 99.99, 'regular')]\n"
     ]
    }
   ],
   "source": [
    "case_q = '''\n",
    "        SELECT\n",
    "           c.first_name || \" \" || c.last_name customer_name,\n",
    "           COUNT(i.invoice_id) number_of_purchases,\n",
    "           SUM(i.total) total_spent,\n",
    "           CASE\n",
    "               WHEN sum(i.total) < 40 THEN 'small spender'\n",
    "               WHEN sum(i.total) > 100 THEN 'big spender'\n",
    "               ELSE 'regular'\n",
    "               END\n",
    "               AS customer_category\n",
    "        FROM invoice i\n",
    "        INNER JOIN customer c ON i.customer_id = c.customer_id\n",
    "        GROUP BY 1 ORDER BY 1;\n",
    "'''\n",
    "case_join = conn.execute(case_q).fetchall()\n",
    "print(case_join)"
   ]
  }
 ],
 "metadata": {
  "kernelspec": {
   "display_name": "Python 3",
   "language": "python",
   "name": "python3"
  },
  "language_info": {
   "codemirror_mode": {
    "name": "ipython",
    "version": 3
   },
   "file_extension": ".py",
   "mimetype": "text/x-python",
   "name": "python",
   "nbconvert_exporter": "python",
   "pygments_lexer": "ipython3",
   "version": "3.6.1"
  }
 },
 "nbformat": 4,
 "nbformat_minor": 2
}
